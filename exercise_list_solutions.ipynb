# %%
names = ['Ali', 'Umar', 'Raza', 'Hassan']
for name in names:
    print(name)

# %%
for name in names:
    print(f"Hello, {name}! How are you today?")

# %%
transportations = ['Honda motorcycle', 'BMW car', 'airplane']
for transportation in transportations:
    print(f"I would like to own a {transportation}.")


# %%
guests = ['Afzal', 'Sadiya', 'Hassan']
for guest in guests:
    print(f"Dear {guest}, I would love for you to join me for dinner.")


# %%
print(f"Unfortunately, {guests[2]} can't make it to dinner.")
guests[2] = 'Arsalan'
for guest in guests:
    print(f"Dear {guest}, please join me for dinner.")


# %%
print("Great news! I've found a bigger dinner table.")
guests.insert(0, 'Muhammad')
guests.insert(len(guests)//2, 'Ahsan')
guests.append('Shani')
for guest in guests:
    print(f"Dear {guest}, you're invited to dinner at my place!")


# %%
print("I regret to inform you that I can now invite only two guests.")
while len(guests) > 2:
    removed_guest = guests.pop()
    print(f"Sorry, {removed_guest}, I can't invite you to dinner.")
for guest in guests:
    print(f"{guest}, you are still invited to dinner.")
del guests[:]
print(guests)  # This should print an empty list.


# %%
places = ['Saudia Arabia', 'Misar', 'Sham', 'USA', 'Greace']
print(places)
print(sorted(places))
print(places)
print(sorted(places, reverse=True))
print(places)
places.reverse()
print(places)
places.reverse()
print(places)
places.sort()
print(places)
places.sort(reverse=True)
print(places)


# %%
items = ['mountain', 'river', 'country', 'city', 'language']
items.append('continent')
items.insert(2, 'ocean')
print(items)
items.remove('continent')
popped_item = items.pop()
print(f"Popped item: {popped_item}")
print(items)
print(len(items))
items.sort()
print(items)
items.sort(reverse=True)
print(items)


# %%
print(items)
try:
    print(items[10])  # This should raise an IndexError.
except IndexError:
    print("Caught an index error - index out of range.")
items[1] = 'updated_item'  # Correct usage.
print(items)



